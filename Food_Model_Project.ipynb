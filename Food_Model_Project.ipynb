{
  "nbformat": 4,
  "nbformat_minor": 0,
  "metadata": {
    "colab": {
      "provenance": [],
      "include_colab_link": true
    },
    "kernelspec": {
      "name": "python3",
      "display_name": "Python 3"
    },
    "language_info": {
      "name": "python"
    }
  },
  "cells": [
    {
      "cell_type": "markdown",
      "metadata": {
        "id": "view-in-github",
        "colab_type": "text"
      },
      "source": [
        "<a href=\"https://colab.research.google.com/github/yishiuan20/Food-Waste-Modeling/blob/main/Food_Model_Project.ipynb\" target=\"_parent\"><img src=\"https://colab.research.google.com/assets/colab-badge.svg\" alt=\"Open In Colab\"/></a>"
      ]
    },
    {
      "cell_type": "markdown",
      "source": [
        "## **Import Algorithm**\n"
      ],
      "metadata": {
        "id": "35T9ZV7Ign0U"
      }
    },
    {
      "cell_type": "code",
      "execution_count": 1,
      "metadata": {
        "id": "Jtt7FHmGgkQh"
      },
      "outputs": [],
      "source": [
        "# General:\n",
        "import pandas as pd\n",
        "import numpy as np\n",
        "import matplotlib.pyplot as plt\n",
        "import IPython.display as ipd\n",
        "import gdown\n",
        "import io\n",
        "\n",
        "# For ML:\n",
        "from sklearn.linear_model import LinearRegression\n",
        "from sklearn.naive_bayes import GaussianNB\n",
        "from sklearn.svm import SVC\n",
        "from sklearn.neighbors import KNeighborsClassifier\n",
        "from sklearn.neural_network import MLPClassifier\n",
        "from sklearn.model_selection import train_test_split"
      ]
    },
    {
      "cell_type": "markdown",
      "source": [
        "# **Load Datas**"
      ],
      "metadata": {
        "id": "m7jTOr4Vbj6e"
      }
    },
    {
      "cell_type": "code",
      "source": [
        "from google.colab import drive\n",
        "drive.mount('/content/drive')"
      ],
      "metadata": {
        "colab": {
          "base_uri": "https://localhost:8080/"
        },
        "id": "QTgffIraIFOF",
        "outputId": "534c675b-3f41-4a76-97ac-2f46a86148f3"
      },
      "execution_count": 2,
      "outputs": [
        {
          "output_type": "stream",
          "name": "stdout",
          "text": [
            "Mounted at /content/drive\n"
          ]
        }
      ]
    },
    {
      "cell_type": "code",
      "source": [
        "path = '/content/drive/MyDrive/Colab Notebooks/Main Lunch Data - final-3.csv'\n",
        "data = pd.read_csv(path)\n",
        "print(data)\n"
      ],
      "metadata": {
        "id": "dMSaGz2IbsR7",
        "colab": {
          "base_uri": "https://localhost:8080/"
        },
        "outputId": "d1ae93e5-d4a7-4d60-9f0a-eac1611be90a"
      },
      "execution_count": 3,
      "outputs": [
        {
          "output_type": "stream",
          "name": "stdout",
          "text": [
            "           Date  Popularity mean Popularity  \\\n",
            "0     12/3/2024         0.1             0,1   \n",
            "1    12/16/2024         0.3     0.174285714   \n",
            "2    12/16/2024         0.4     0.174285714   \n",
            "3    12/16/2024         0.0     0.174285714   \n",
            "4    12/16/2024         0.4     0.174285714   \n",
            "..          ...         ...             ...   \n",
            "156   1/16/2025         0.0            0.22   \n",
            "157   1/16/2025         0.3            0.22   \n",
            "158   1/17/2025         0.0           0.033   \n",
            "159   1/17/2025         0.0           0.033   \n",
            "160   1/17/2025         0.1           0.033   \n",
            "\n",
            "    Specify which items/ingredients you threw away. Separate each item with a comma. (e.x. whole apple, pizza crust, diced tomato in pasta, none)  \\\n",
            "0                                          Dinner roll                                                                                              \n",
            "1    Sometimes the fruit/vegetable, part of meat wi...                                                                                              \n",
            "2                   Salad,coleslaw, mixed vegetables 🥕                                                                                              \n",
            "3                                         usually none                                                                                              \n",
            "4                                          Whole apple                                                                                              \n",
            "..                                                 ...                                                                                              \n",
            "156                                               none                                                                                              \n",
            "157                                               Rice                                                                                              \n",
            "158                                                NaN                                                                                              \n",
            "159                                               none                                                                                              \n",
            "160  A few grains of rice and some \"Swedish meatbal...                                                                                              \n",
            "\n",
            "                                Menu Item                          Side  beef  \\\n",
            "0    Beef and Tomoato Macaroni Casserrole    Garden salad, dinner rolls     1   \n",
            "1      Honeyfire Kitchen meatless nuggets                    Tater tots     0   \n",
            "2      Honeyfire Kitchen meatless nuggets                    Tater tots     0   \n",
            "3      Honeyfire Kitchen meatless nuggets                    Tater tots     0   \n",
            "4      Honeyfire Kitchen meatless nuggets                    Tater tots     0   \n",
            "..                                    ...                           ...   ...   \n",
            "156                     Veggie Frittatta   Hashbrowns,  Fresh fruit Cup     0   \n",
            "157                     Veggie Frittatta   Hashbrowns,  Fresh fruit Cup     0   \n",
            "158           Homemade Paste & Meat Sauce              Steamed Broccoli     1   \n",
            "159           Homemade Paste & Meat Sauce              Steamed Broccoli     1   \n",
            "160           Homemade Paste & Meat Sauce              Steamed Broccoli     1   \n",
            "\n",
            "     tomato  pasta  salad  ...  tofu  peas  eggs  grapes  strawberries  \\\n",
            "0         1      1      1  ...     0     0     0       0             0   \n",
            "1         0      0      0  ...     0     0     0       0             0   \n",
            "2         0      0      0  ...     0     0     0       0             0   \n",
            "3         0      0      0  ...     0     0     0       0             0   \n",
            "4         0      0      0  ...     0     0     0       0             0   \n",
            "..      ...    ...    ...  ...   ...   ...   ...     ...           ...   \n",
            "156       0      0      0  ...     0     0     1       1             1   \n",
            "157       0      0      0  ...     0     0     1       1             1   \n",
            "158       1      1      0  ...     0     0     0       0             0   \n",
            "159       1      1      0  ...     0     0     0       0             0   \n",
            "160       1      1      0  ...     0     0     0       0             0   \n",
            "\n",
            "     pineapple  mushroom  spinach  peppers  quinoa  \n",
            "0            0         0        0        0       0  \n",
            "1            0         0        0        0       0  \n",
            "2            0         0        0        0       0  \n",
            "3            0         0        0        0       0  \n",
            "4            0         0        0        0       0  \n",
            "..         ...       ...      ...      ...     ...  \n",
            "156          1         1        1        1       1  \n",
            "157          1         1        1        1       1  \n",
            "158          0         0        0        0       0  \n",
            "159          0         0        0        0       0  \n",
            "160          0         0        0        0       0  \n",
            "\n",
            "[161 rows x 33 columns]\n"
          ]
        }
      ]
    },
    {
      "cell_type": "markdown",
      "source": [
        "# **Data Spliting**"
      ],
      "metadata": {
        "id": "It-VUQEFypzh"
      }
    },
    {
      "cell_type": "code",
      "source": [
        "print(data.columns.tolist())"
      ],
      "metadata": {
        "id": "HxlgqiY2ymID",
        "colab": {
          "base_uri": "https://localhost:8080/"
        },
        "outputId": "3df47fd6-0615-40e9-aa2a-c78abf6c668a"
      },
      "execution_count": 4,
      "outputs": [
        {
          "output_type": "stream",
          "name": "stdout",
          "text": [
            "['Date', 'Popularity', 'mean Popularity', 'Specify which items/ingredients you threw away. Separate each item with a comma. (e.x. whole apple, pizza crust, diced tomato in pasta, none)', 'Menu Item', 'Side', 'beef', 'tomato', 'pasta', 'salad', 'bread', 'vegan meat', 'potatoes', 'chicken', 'beans', 'corn', 'gravy', 'broccoli', 'cheese', 'rice', 'carrots', 'celery', 'fish', 'tofu', 'peas', 'eggs', 'grapes', 'strawberries', 'pineapple', 'mushroom', 'spinach', 'peppers', 'quinoa']\n"
          ]
        }
      ]
    },
    {
      "cell_type": "code",
      "source": [
        "X = data[['beef', 'tomato', 'pasta', 'salad', 'bread', 'vegan meat', 'potatoes', 'chicken', 'beans', 'corn', 'gravy', 'broccoli', 'cheese', 'rice', 'carrots', 'celery', 'fish', 'tofu', 'peas', 'eggs', 'grapes', 'strawberries', 'pineapple', 'mushroom', 'spinach', 'peppers', 'quinoa']]\n",
        "y= data[['mean Popularity']]\n",
        "\n",
        "y=y.values.ravel()\n",
        "print(y)\n",
        "print(X)"
      ],
      "metadata": {
        "colab": {
          "base_uri": "https://localhost:8080/"
        },
        "id": "05zYyEYNLnCY",
        "outputId": "073527c7-0f0d-4c2b-b824-5f40ada79649"
      },
      "execution_count": 5,
      "outputs": [
        {
          "output_type": "stream",
          "name": "stdout",
          "text": [
            "['0,1' '0.174285714' '0.174285714' '0.174285714' '0.174285714'\n",
            " '0.174285714' '0.174285714' '0.174285714' '0.174285714' '0.174285714'\n",
            " '0.174285714' '0.174285714' '0.174285714' '0.174285714' '0.174285714'\n",
            " '0.174285714' '0.174285714' '0.174285714' '0.174285714' '0.174285714'\n",
            " '0.174285714' '0.174285714' '0.174285714' '0.174285714' '0.174285714'\n",
            " '0.174285714' '0.174285714' '0.174285714' '0.174285714' '0.174285714'\n",
            " '0.174285714' '0.174285714' '0.174285714' '0.174285714' '0.174285714'\n",
            " '0.174285714' '0.3' '0.3' '0.3' '0.3' '0.3' '0.3' '0.3' '0.3' '0.3' '0.3'\n",
            " '0.3' '0.3' '0.3' '0.3' '0.3' '0.3' '0.3' '0.3' '0.09375' '0.09375'\n",
            " '0.09375' '0.09375' '0.09375' '0.09375' '0.09375' '0.09375' '0.09375'\n",
            " '0.09375' '0.09375' '0.09375' '0.09375' '0.09375' '0.09375' '0.09375'\n",
            " '0.15' '0.15' '0.15' '0.15' '0.15' '0.15' '0.15' '0.15' '0.15' '0.15'\n",
            " '0.15' '0.15' '0.15' '0.15' '0.2' '0.133333333' '0.133333333'\n",
            " '0.133333333' '0.133333333' '0.133333333' '0.133333333' '0.257894737'\n",
            " '0.257894737' '0.257894737' '0.257894737' '0.257894737' '0.257894737'\n",
            " '0.257894737' '0.257894737' '0.257894737' '0.257894737' '0.257894737'\n",
            " '0.257894737' '0.257894737' '0.257894737' '0.257894737' '0.257894737'\n",
            " '0.257894737' '0.257894737' '0.257894737' '0.255555556' '0.255555556'\n",
            " '0.255555556' '0.255555556' '0.255555556' '0.255555556' '0.255555556'\n",
            " '0.255555556' '0.255555556' '0.2875' '0.2875' '0.2875' '0.2875' '0.2875'\n",
            " '0.2875' '0.2875' '0.2875' '0.25' '0.25' '0.25' '0.25' '0.25' '0.25'\n",
            " '0.15' '0.15' '0.15' '0.15' '0.15' '0.15' '0.114285714' '0.114285714'\n",
            " '0.114285714' '0.114285714' '0.114285714' '0.114285714' '0.114285714'\n",
            " '0.2' '0.2' '0.22' '0.22' '0.22' '0.22' '0.22' '0.22' '0.22' '0.22'\n",
            " '0.22' '0.22' '0.033' '0.033' '0.033']\n",
            "     beef  tomato  pasta  salad  bread  vegan meat  potatoes  chicken  beans  \\\n",
            "0       1       1      1      1      1           0         0        0      0   \n",
            "1       0       0      0      0      0           1         1        0      0   \n",
            "2       0       0      0      0      0           1         1        0      0   \n",
            "3       0       0      0      0      0           1         1        0      0   \n",
            "4       0       0      0      0      0           1         1        0      0   \n",
            "..    ...     ...    ...    ...    ...         ...       ...      ...    ...   \n",
            "156     0       0      0      0      0           0         1        0      0   \n",
            "157     0       0      0      0      0           0         1        0      0   \n",
            "158     1       1      1      0      0           0         0        0      0   \n",
            "159     1       1      1      0      0           0         0        0      0   \n",
            "160     1       1      1      0      0           0         0        0      0   \n",
            "\n",
            "     corn  ...  tofu  peas  eggs  grapes  strawberries  pineapple  mushroom  \\\n",
            "0       0  ...     0     0     0       0             0          0         0   \n",
            "1       0  ...     0     0     0       0             0          0         0   \n",
            "2       0  ...     0     0     0       0             0          0         0   \n",
            "3       0  ...     0     0     0       0             0          0         0   \n",
            "4       0  ...     0     0     0       0             0          0         0   \n",
            "..    ...  ...   ...   ...   ...     ...           ...        ...       ...   \n",
            "156     0  ...     0     0     1       1             1          1         1   \n",
            "157     0  ...     0     0     1       1             1          1         1   \n",
            "158     0  ...     0     0     0       0             0          0         0   \n",
            "159     0  ...     0     0     0       0             0          0         0   \n",
            "160     0  ...     0     0     0       0             0          0         0   \n",
            "\n",
            "     spinach  peppers  quinoa  \n",
            "0          0        0       0  \n",
            "1          0        0       0  \n",
            "2          0        0       0  \n",
            "3          0        0       0  \n",
            "4          0        0       0  \n",
            "..       ...      ...     ...  \n",
            "156        1        1       1  \n",
            "157        1        1       1  \n",
            "158        0        0       0  \n",
            "159        0        0       0  \n",
            "160        0        0       0  \n",
            "\n",
            "[161 rows x 27 columns]\n"
          ]
        }
      ]
    },
    {
      "cell_type": "markdown",
      "source": [
        "### Random Forest Model"
      ],
      "metadata": {
        "id": "1hcjvGM-lHzb"
      }
    },
    {
      "cell_type": "markdown",
      "source": [
        "### Training the Model"
      ],
      "metadata": {
        "id": "LxhCthD_lkQo"
      }
    },
    {
      "cell_type": "code",
      "source": [
        "# Splitting data into training and testing\n",
        "X_train, X_test, y_train, y_test = train_test_split(X, y, test_size = 0.2)\n",
        "# Train logistic regression model\n",
        "model = LinearRegression()\n",
        "\n",
        "\n",
        "#calculate and print score\n",
        "\n",
        "model.fit(X_train, y_train) # Use transformed y_train for training\n",
        "model_score= model.score(X_test, y_test) # Use transformed y_test for scoring\n",
        "print(model_score)\n"
      ],
      "metadata": {
        "colab": {
          "base_uri": "https://localhost:8080/"
        },
        "id": "MuraWrqYB9jN",
        "outputId": "43017b90-4d9a-4266-84e1-fe4f117a6b1c"
      },
      "execution_count": 12,
      "outputs": [
        {
          "output_type": "stream",
          "name": "stdout",
          "text": [
            "1.0\n"
          ]
        }
      ]
    },
    {
      "cell_type": "code",
      "source": [
        "#Predict\n",
        "y_model_train_pred = model.predict(X_train)\n",
        "y_model_test_pred = model.predict(X_test)\n",
        "print(y_model_test_pred)\n",
        "print(y)"
      ],
      "metadata": {
        "id": "8O2cRHEaZgTA",
        "colab": {
          "base_uri": "https://localhost:8080/"
        },
        "outputId": "aa50a3c7-350d-4758-bb82-f7fd063584bc"
      },
      "execution_count": 13,
      "outputs": [
        {
          "output_type": "stream",
          "name": "stdout",
          "text": [
            "[0.17428571 0.25789474 0.17428571 0.11428571 0.22       0.25555556\n",
            " 0.09375    0.3        0.25789474 0.13333333 0.13333333 0.15\n",
            " 0.25789474 0.11428571 0.09375    0.17428571 0.3        0.22\n",
            " 0.09375    0.13333333 0.17428571 0.15       0.11428571 0.25\n",
            " 0.17428571 0.09375    0.17428571 0.11428571 0.3        0.2875\n",
            " 0.09375    0.11428571 0.17428571]\n",
            "[0.1        0.17428571 0.17428571 0.17428571 0.17428571 0.17428571\n",
            " 0.17428571 0.17428571 0.17428571 0.17428571 0.17428571 0.17428571\n",
            " 0.17428571 0.17428571 0.17428571 0.17428571 0.17428571 0.17428571\n",
            " 0.17428571 0.17428571 0.17428571 0.17428571 0.17428571 0.17428571\n",
            " 0.17428571 0.17428571 0.17428571 0.17428571 0.17428571 0.17428571\n",
            " 0.17428571 0.17428571 0.17428571 0.17428571 0.17428571 0.17428571\n",
            " 0.3        0.3        0.3        0.3        0.3        0.3\n",
            " 0.3        0.3        0.3        0.3        0.3        0.3\n",
            " 0.3        0.3        0.3        0.3        0.3        0.3\n",
            " 0.09375    0.09375    0.09375    0.09375    0.09375    0.09375\n",
            " 0.09375    0.09375    0.09375    0.09375    0.09375    0.09375\n",
            " 0.09375    0.09375    0.09375    0.09375    0.15       0.15\n",
            " 0.15       0.15       0.15       0.15       0.15       0.15\n",
            " 0.15       0.15       0.15       0.15       0.15       0.15\n",
            " 0.2        0.13333333 0.13333333 0.13333333 0.13333333 0.13333333\n",
            " 0.13333333 0.25789474 0.25789474 0.25789474 0.25789474 0.25789474\n",
            " 0.25789474 0.25789474 0.25789474 0.25789474 0.25789474 0.25789474\n",
            " 0.25789474 0.25789474 0.25789474 0.25789474 0.25789474 0.25789474\n",
            " 0.25789474 0.25789474 0.25555556 0.25555556 0.25555556 0.25555556\n",
            " 0.25555556 0.25555556 0.25555556 0.25555556 0.25555556 0.2875\n",
            " 0.2875     0.2875     0.2875     0.2875     0.2875     0.2875\n",
            " 0.2875     0.25       0.25       0.25       0.25       0.25\n",
            " 0.25       0.15       0.15       0.15       0.15       0.15\n",
            " 0.15       0.11428571 0.11428571 0.11428571 0.11428571 0.11428571\n",
            " 0.11428571 0.11428571 0.2        0.2        0.22       0.22\n",
            " 0.22       0.22       0.22       0.22       0.22       0.22\n",
            " 0.22       0.22       0.033      0.033      0.033     ]\n"
          ]
        }
      ]
    },
    {
      "cell_type": "code",
      "source": [
        "x_axis = list(range(1,34))\n",
        "plt.plot(x_axis,y_model_test_pred)\n",
        "plt.plot(x_axis,y_test)\n",
        "plt.show()"
      ],
      "metadata": {
        "colab": {
          "base_uri": "https://localhost:8080/",
          "height": 430
        },
        "id": "vxjIpSfOqLwY",
        "outputId": "fdc1cb0c-66e5-4633-8ed3-711f71a00a9a"
      },
      "execution_count": 9,
      "outputs": [
        {
          "output_type": "display_data",
          "data": {
            "text/plain": [
              "<Figure size 640x480 with 1 Axes>"
            ],
            "image/png": "[encoded data removed]"
          },
          "metadata": {}
        }
      ]
    },
    {
      "cell_type": "code",
      "source": [
        "print(X_train, y_train)"
      ],
      "metadata": {
        "colab": {
          "base_uri": "https://localhost:8080/"
        },
        "id": "OLwbgoq4si1t",
        "outputId": "5fb58269-1702-49f2-cf59-5222966be92f"
      },
      "execution_count": 10,
      "outputs": [
        {
          "output_type": "stream",
          "name": "stdout",
          "text": [
            "     beef  tomato  pasta  salad  bread  vegan meat  potatoes  chicken  beans  \\\n",
            "59      1       1      1      1      1           0         0        0      0   \n",
            "9       0       0      0      0      0           1         1        0      0   \n",
            "13      0       0      0      0      0           1         1        0      0   \n",
            "95      0       1      0      0      1           0         0        1      1   \n",
            "10      0       0      0      0      0           1         1        0      0   \n",
            "..    ...     ...    ...    ...    ...         ...       ...      ...    ...   \n",
            "32      0       0      0      0      0           1         1        0      0   \n",
            "125     0       0      0      0      1           0         1        1      0   \n",
            "41      0       0      0      0      1           0         0        1      1   \n",
            "133     0       0      0      0      0           0         0        0      1   \n",
            "63      1       1      1      1      1           0         0        0      0   \n",
            "\n",
            "     corn  ...  tofu  peas  eggs  grapes  strawberries  pineapple  mushroom  \\\n",
            "59      0  ...     0     0     0       0             0          0         0   \n",
            "9       0  ...     0     0     0       0             0          0         0   \n",
            "13      0  ...     0     0     0       0             0          0         0   \n",
            "95      1  ...     0     0     0       0             0          0         0   \n",
            "10      0  ...     0     0     0       0             0          0         0   \n",
            "..    ...  ...   ...   ...   ...     ...           ...        ...       ...   \n",
            "32      0  ...     0     0     0       0             0          0         0   \n",
            "125     0  ...     0     0     0       0             0          0         0   \n",
            "41      0  ...     0     0     0       0             0          0         0   \n",
            "133     0  ...     1     1     0       0             0          0         0   \n",
            "63      0  ...     0     0     0       0             0          0         0   \n",
            "\n",
            "     spinach  peppers  quinoa  \n",
            "59         0        0       0  \n",
            "9          0        0       0  \n",
            "13         0        0       0  \n",
            "95         0        0       0  \n",
            "10         0        0       0  \n",
            "..       ...      ...     ...  \n",
            "32         0        0       0  \n",
            "125        0        0       0  \n",
            "41         0        0       0  \n",
            "133        0        1       0  \n",
            "63         0        0       0  \n",
            "\n",
            "[128 rows x 27 columns] [0.09375    0.17428571 0.17428571 0.25789474 0.17428571 0.17428571\n",
            " 0.17428571 0.15       0.11428571 0.3        0.17428571 0.25789474\n",
            " 0.13333333 0.17428571 0.25555556 0.3        0.15       0.2\n",
            " 0.2875     0.3        0.15       0.3        0.2875     0.09375\n",
            " 0.25555556 0.25       0.22       0.11428571 0.25789474 0.25789474\n",
            " 0.09375    0.17428571 0.17428571 0.13333333 0.2        0.25789474\n",
            " 0.17428571 0.25789474 0.15       0.15       0.17428571 0.17428571\n",
            " 0.25789474 0.22       0.17428571 0.09375    0.09375    0.15\n",
            " 0.22       0.15       0.11428571 0.25789474 0.17428571 0.17428571\n",
            " 0.3        0.17428571 0.17428571 0.15       0.033      0.2875\n",
            " 0.15       0.17428571 0.25789474 0.15       0.033      0.2875\n",
            " 0.25555556 0.25789474 0.2        0.17428571 0.25       0.09375\n",
            " 0.25789474 0.25789474 0.11428571 0.17428571 0.15       0.22\n",
            " 0.11428571 0.2875     0.22       0.3        0.11428571 0.09375\n",
            " 0.15       0.09375    0.3        0.15       0.09375    0.11428571\n",
            " 0.2875     0.13333333 0.25789474 0.09375    0.3        0.09375\n",
            " 0.17428571 0.17428571 0.17428571 0.13333333 0.25555556 0.25789474\n",
            " 0.13333333 0.3        0.25789474 0.25555556 0.17428571 0.17428571\n",
            " 0.22       0.17428571 0.13333333 0.09375    0.3        0.25\n",
            " 0.17428571 0.2875     0.25       0.22       0.25555556 0.3\n",
            " 0.3        0.1        0.25789474 0.17428571 0.2875     0.3\n",
            " 0.15       0.09375   ]\n"
          ]
        }
      ]
    },
    {
      "cell_type": "code",
      "source": [],
      "metadata": {
        "id": "K_K0Lkht13vc"
      },
      "execution_count": null,
      "outputs": []
    },
    {
      "cell_type": "code",
      "source": [],
      "metadata": {
        "id": "kgTGV2uR2zTa"
      },
      "execution_count": null,
      "outputs": []
    },
    {
      "cell_type": "markdown",
      "source": [
        "# **Pickling Model**"
      ],
      "metadata": {
        "id": "M-ewr5RmWC5P"
      }
    },
    {
      "cell_type": "code",
      "source": [
        "import pickle as pkl\n",
        "food_model = open('model.pkl', 'wb')\n",
        "pkl.dump(model, food_model)\n",
        "food_model.close()"
      ],
      "metadata": {
        "id": "--7jOXcuwF1V"
      },
      "execution_count": 16,
      "outputs": []
    }
  ]
}